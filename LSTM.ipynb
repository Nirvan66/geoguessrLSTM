{
 "cells": [
  {
   "cell_type": "code",
   "execution_count": 2,
   "metadata": {},
   "outputs": [],
   "source": [
    "from shapely.geometry import Point, Polygon\n",
    "from matplotlib import pyplot as plt\n",
    "from math import sin, cos, sqrt, atan2, radians\n",
    "\n",
    "# !pip install gmaps\n",
    "import shapely\n",
    "import pickle\n",
    "import random\n",
    "import numpy as np\n",
    "import gmaps, os\n",
    "import tensorflow as tf\n",
    "from tensorflow.keras.preprocessing.image import load_img\n",
    "from tensorflow.keras.preprocessing.image import img_to_array\n",
    "from ipywidgets.embed import embed_minimal_html\n",
    "import webbrowser\n",
    "\n",
    "# directory containing data\n",
    "DATADIR = \"/home/nirvan/Desktop/github/geoguessrLSTM/infoExtraction/data\"\n",
    "# directory to store model in\n",
    "MODELDIR = \"/home/nirvan/Desktop/github/GeoguessrAI/machineLearning\"\n",
    "\n",
    "# DATADIR = '/content/drive/My Drive/geoguessr'\n",
    "# MODELDIR = '/content/drive/My Drive/geoguessr'"
   ]
  },
  {
   "cell_type": "code",
   "execution_count": 3,
   "metadata": {},
   "outputs": [
    {
     "name": "stdout",
     "output_type": "stream",
     "text": [
      "Train files: 8748, Test files: 972\n"
     ]
    }
   ],
   "source": [
    "# load training image file names\n",
    "TF = np.load(DATADIR+'/trainFiles.npy')\n",
    "# load testing image file names\n",
    "TESF = np.load(DATADIR+'/testFiles.npy')\n",
    "print(\"Train files: {}, Test files: {}\".format(len(TF), len(TESF)))"
   ]
  },
  {
   "cell_type": "code",
   "execution_count": 10,
   "metadata": {},
   "outputs": [],
   "source": [
    "X = np.array(list(map(lambda x: [np.array(load_img(DATADIR+\"/dataCombined/\"+x+'/'+i, \n",
    "                                                           target_size=(300,600))) \n",
    "                                         for i in os.listdir(DATADIR+\"/dataCombined/\"+x)], \n",
    "                              TF[0:3])))\n",
    "y = tf.keras.utils.to_categorical(list(map(lambda x:int(x.split('+')[0]), TF[0:3])), \n",
    "                                  num_classes=243)"
   ]
  },
  {
   "cell_type": "code",
   "execution_count": 11,
   "metadata": {},
   "outputs": [],
   "source": [
    "from tensorflow.keras.layers import TimeDistributed, GRU, Dense, Dropout\n",
    "from tensorflow.keras.layers import Conv2D, BatchNormalization, MaxPool2D, GlobalMaxPool2D\n",
    "from tensorflow.keras.applications.resnet50 import ResNet50\n",
    "def build_convnet(shape=(300, 600, 3)):\n",
    "    momentum = .9\n",
    "    model = tf.keras.Sequential()\n",
    "#     model.add(Conv2D(64, (3,3), input_shape=shape,\n",
    "#         padding='same', activation='relu'))\n",
    "#     model.add(Conv2D(64, (3,3), padding='same', activation='relu'))\n",
    "#     model.add(BatchNormalization(momentum=momentum))\n",
    "    \n",
    "#     model.add(MaxPool2D())\n",
    "    \n",
    "#     model.add(Conv2D(128, (3,3), padding='same', activation='relu'))\n",
    "#     model.add(Conv2D(128, (3,3), padding='same', activation='relu'))\n",
    "#     model.add(BatchNormalization(momentum=momentum))\n",
    "    \n",
    "#     model.add(MaxPool2D())\n",
    "    \n",
    "#     model.add(Conv2D(256, (3,3), padding='same', activation='relu'))\n",
    "#     model.add(Conv2D(256, (3,3), padding='same', activation='relu'))\n",
    "#     model.add(BatchNormalization(momentum=momentum))\n",
    "    \n",
    "#     model.add(MaxPool2D())\n",
    "    \n",
    "#     model.add(Conv2D(512, (3,3), padding='same', activation='relu'))\n",
    "#     model.add(Conv2D(512, (3,3), padding='same', activation='relu'))\n",
    "#     model.add(BatchNormalization(momentum=momentum))\n",
    "    \n",
    "    restnet = ResNet50(include_top=False, weights='imagenet', input_shape=shape)\n",
    "    restnet.trainable = False\n",
    "    model.add(restnet)\n",
    "    # flatten...\n",
    "    model.add(GlobalMaxPool2D())\n",
    "    return model\n",
    "\n",
    "def action_model(shape=(3, 300, 600, 3), nbout=243):\n",
    "    # Create our convnet with (112, 112, 3) input shape\n",
    "    convnet = build_convnet(shape[1:])\n",
    "    \n",
    "    # then create our final model\n",
    "    model = tf.keras.Sequential()\n",
    "    # add the convnet with (5, 112, 112, 3) shape\n",
    "    model.add(TimeDistributed(convnet, input_shape=shape))\n",
    "    # here, you can also use GRU or LSTM\n",
    "    model.add(GRU(64))\n",
    "    # and finally, we make a decision network\n",
    "    model.add(Dense(1024, activation='relu'))\n",
    "    model.add(Dropout(.5))\n",
    "    model.add(Dense(512, activation='relu'))\n",
    "    model.add(Dropout(.5))\n",
    "    model.add(Dense(128, activation='relu'))\n",
    "    model.add(Dropout(.5))\n",
    "    model.add(Dense(64, activation='relu'))\n",
    "    model.add(Dense(nbout, activation='softmax'))\n",
    "    return model"
   ]
  },
  {
   "cell_type": "code",
   "execution_count": 12,
   "metadata": {},
   "outputs": [
    {
     "name": "stdout",
     "output_type": "stream",
     "text": [
      "Model: \"sequential_1\"\n",
      "_________________________________________________________________\n",
      "Layer (type)                 Output Shape              Param #   \n",
      "=================================================================\n",
      "time_distributed (TimeDistri (None, 3, 2048)           23587712  \n",
      "_________________________________________________________________\n",
      "gru (GRU)                    (None, 64)                405888    \n",
      "_________________________________________________________________\n",
      "dense (Dense)                (None, 1024)              66560     \n",
      "_________________________________________________________________\n",
      "dropout (Dropout)            (None, 1024)              0         \n",
      "_________________________________________________________________\n",
      "dense_1 (Dense)              (None, 512)               524800    \n",
      "_________________________________________________________________\n",
      "dropout_1 (Dropout)          (None, 512)               0         \n",
      "_________________________________________________________________\n",
      "dense_2 (Dense)              (None, 128)               65664     \n",
      "_________________________________________________________________\n",
      "dropout_2 (Dropout)          (None, 128)               0         \n",
      "_________________________________________________________________\n",
      "dense_3 (Dense)              (None, 64)                8256      \n",
      "_________________________________________________________________\n",
      "dense_4 (Dense)              (None, 243)               15795     \n",
      "=================================================================\n",
      "Total params: 24,674,675\n",
      "Trainable params: 1,086,963\n",
      "Non-trainable params: 23,587,712\n",
      "_________________________________________________________________\n"
     ]
    }
   ],
   "source": [
    "m = action_model()\n",
    "m.summary()"
   ]
  },
  {
   "cell_type": "code",
   "execution_count": 13,
   "metadata": {},
   "outputs": [],
   "source": [
    "m.compile(loss=tf.keras.losses.categorical_crossentropy, optimizer='adam', metrics=['categorical_accuracy'])"
   ]
  },
  {
   "cell_type": "code",
   "execution_count": 14,
   "metadata": {},
   "outputs": [
    {
     "name": "stdout",
     "output_type": "stream",
     "text": [
      "Train on 3 samples\n",
      "3/3 [==============================] - 6s 2s/sample - loss: 5.5645 - categorical_accuracy: 0.0000e+00\n"
     ]
    },
    {
     "data": {
      "text/plain": [
       "<tensorflow.python.keras.callbacks.History at 0x7f1a4513b990>"
      ]
     },
     "execution_count": 14,
     "metadata": {},
     "output_type": "execute_result"
    }
   ],
   "source": [
    "m.fit(X,y)"
   ]
  },
  {
   "cell_type": "code",
   "execution_count": 15,
   "metadata": {},
   "outputs": [
    {
     "data": {
      "text/plain": [
       "(2, 243)"
      ]
     },
     "execution_count": 15,
     "metadata": {},
     "output_type": "execute_result"
    }
   ],
   "source": []
  },
  {
   "cell_type": "code",
   "execution_count": null,
   "metadata": {},
   "outputs": [],
   "source": []
  }
 ],
 "metadata": {
  "kernelspec": {
   "display_name": "Python 3",
   "language": "python",
   "name": "python3"
  },
  "language_info": {
   "codemirror_mode": {
    "name": "ipython",
    "version": 3
   },
   "file_extension": ".py",
   "mimetype": "text/x-python",
   "name": "python",
   "nbconvert_exporter": "python",
   "pygments_lexer": "ipython3",
   "version": "3.7.4"
  },
  "latex_envs": {
   "LaTeX_envs_menu_present": true,
   "autoclose": false,
   "autocomplete": true,
   "bibliofile": "biblio.bib",
   "cite_by": "apalike",
   "current_citInitial": 1,
   "eqLabelWithNumbers": true,
   "eqNumInitial": 1,
   "hotkeys": {
    "equation": "Ctrl-E",
    "itemize": "Ctrl-I"
   },
   "labels_anchors": false,
   "latex_user_defs": false,
   "report_style_numbering": false,
   "user_envs_cfg": false
  }
 },
 "nbformat": 4,
 "nbformat_minor": 2
}
